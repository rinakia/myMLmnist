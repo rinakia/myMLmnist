{
 "cells": [
  {
   "cell_type": "code",
   "execution_count": 50,
   "metadata": {},
   "outputs": [],
   "source": [
    "# 音源方向推定\n",
    "\n",
    "# 理論的。実機使いたいなら機械学習にした方がいい。。\n",
    "\n",
    "\n",
    "Mdeg = 15  # マイク 間隔(deg)\n",
    "Mrad = 0.5    # マイク半径\n",
    "\n",
    "Sdeg = 15   # 音源 間隔(deg)\n",
    "Srad = 3       # 音源半径\n"
   ]
  },
  {
   "cell_type": "code",
   "execution_count": 51,
   "metadata": {},
   "outputs": [],
   "source": [
    "import numpy as np\n",
    "import math\n",
    "import matplotlib.pyplot as plt\n",
    "import sys\n",
    "import scipy.io.wavfile as audio\n",
    "# import scikits.audiolab の方が機能多いっぽい.."
   ]
  },
  {
   "cell_type": "code",
   "execution_count": 52,
   "metadata": {
    "scrolled": true
   },
   "outputs": [],
   "source": [
    "# 円形に配置されたマイクを仮定。中は中空\n",
    "\n",
    "Mpos = np.zeros([round(360/Mdeg)+1, 3])\n",
    "# print(Mpos[1,:])\n",
    "for deg in range(0, 360, Mdeg):\n",
    "    Mpos[round(deg/Mdeg),:]=[Mrad*np.cos(deg/180*np.pi),Mrad*np.sin(deg/180*np.pi),0]\n",
    "    # print(Mpos[round(deg/Mdeg),:])\n",
    "\n",
    "# 円形に配置された音源を仮定。中は中空\n",
    "Spos = np.zeros([round(360/Sdeg)+1, 3])\n",
    "for deg in range(0, 360, Sdeg):\n",
    "    Spos[round(deg/Sdeg),:]=[Srad*np.cos(deg/180*np.pi),Srad*np.sin(deg/180*np.pi),0]\n",
    "\n",
    "# 自由音場での伝達関数 G=\n"
   ]
  },
  {
   "cell_type": "code",
   "execution_count": 53,
   "metadata": {},
   "outputs": [
    {
     "name": "stdout",
     "output_type": "stream",
     "text": [
      "[[ 3.00000000e+00  0.00000000e+00  0.00000000e+00]\n",
      " [ 2.89777748e+00  7.76457135e-01  0.00000000e+00]\n",
      " [ 2.59807621e+00  1.50000000e+00  0.00000000e+00]\n",
      " [ 2.12132034e+00  2.12132034e+00  0.00000000e+00]\n",
      " [ 1.50000000e+00  2.59807621e+00  0.00000000e+00]\n",
      " [ 7.76457135e-01  2.89777748e+00  0.00000000e+00]\n",
      " [ 1.83697020e-16  3.00000000e+00  0.00000000e+00]\n",
      " [-7.76457135e-01  2.89777748e+00  0.00000000e+00]\n",
      " [-1.50000000e+00  2.59807621e+00  0.00000000e+00]\n",
      " [-2.12132034e+00  2.12132034e+00  0.00000000e+00]\n",
      " [-2.59807621e+00  1.50000000e+00  0.00000000e+00]\n",
      " [-2.89777748e+00  7.76457135e-01  0.00000000e+00]\n",
      " [-3.00000000e+00  3.67394040e-16  0.00000000e+00]\n",
      " [-2.89777748e+00 -7.76457135e-01  0.00000000e+00]\n",
      " [-2.59807621e+00 -1.50000000e+00  0.00000000e+00]\n",
      " [-2.12132034e+00 -2.12132034e+00  0.00000000e+00]\n",
      " [-1.50000000e+00 -2.59807621e+00  0.00000000e+00]\n",
      " [-7.76457135e-01 -2.89777748e+00  0.00000000e+00]\n",
      " [-5.51091060e-16 -3.00000000e+00  0.00000000e+00]\n",
      " [ 7.76457135e-01 -2.89777748e+00  0.00000000e+00]\n",
      " [ 1.50000000e+00 -2.59807621e+00  0.00000000e+00]\n",
      " [ 2.12132034e+00 -2.12132034e+00  0.00000000e+00]\n",
      " [ 2.59807621e+00 -1.50000000e+00  0.00000000e+00]\n",
      " [ 2.89777748e+00 -7.76457135e-01  0.00000000e+00]\n",
      " [ 0.00000000e+00  0.00000000e+00  0.00000000e+00]]\n"
     ]
    }
   ],
   "source": [
    "print(Spos)"
   ]
  },
  {
   "cell_type": "code",
   "execution_count": null,
   "metadata": {},
   "outputs": [],
   "source": []
  }
 ],
 "metadata": {
  "kernelspec": {
   "display_name": "Python 3",
   "language": "python",
   "name": "python3"
  },
  "language_info": {
   "codemirror_mode": {
    "name": "ipython",
    "version": 3
   },
   "file_extension": ".py",
   "mimetype": "text/x-python",
   "name": "python",
   "nbconvert_exporter": "python",
   "pygments_lexer": "ipython3",
   "version": "3.7.2"
  }
 },
 "nbformat": 4,
 "nbformat_minor": 2
}
