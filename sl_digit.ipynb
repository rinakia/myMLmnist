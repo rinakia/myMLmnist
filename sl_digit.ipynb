{
 "cells": [
  {
   "cell_type": "code",
   "execution_count": 138,
   "metadata": {
    "collapsed": true
   },
   "outputs": [],
   "source": [
    "# DNN 練習用 digit"
   ]
  },
  {
   "cell_type": "code",
   "execution_count": 1,
   "metadata": {
    "collapsed": true
   },
   "outputs": [],
   "source": [
    "import numpy as np\n",
    "import matplotlib.pyplot as plt\n",
    "# scikit-learn ライブラリの読み込み\n",
    "from sklearn import datasets"
   ]
  },
  {
   "cell_type": "code",
   "execution_count": 2,
   "metadata": {},
   "outputs": [
    {
     "data": {
      "image/png": "[encoded data removed]",
      "text/plain": [
       "<matplotlib.figure.Figure at 0x10be452d0>"
      ]
     },
     "metadata": {},
     "output_type": "display_data"
    }
   ],
   "source": [
    "# 手書き文字セットを読み込む\n",
    "digits = datasets.load_digits()\n",
    "# どのようなデータか、確認してみる\n",
    "plt.matshow(digits.images[0], cmap=\"Greys\")\n",
    "plt.show()"
   ]
  },
  {
   "cell_type": "code",
   "execution_count": 25,
   "metadata": {},
   "outputs": [
    {
     "data": {
      "text/plain": [
       "array([ 178.,  182.,  177.,  183.,  181.,  182.,  181.,  179.,  174.,  180.])"
      ]
     },
     "execution_count": 25,
     "metadata": {},
     "output_type": "execute_result"
    }
   ],
   "source": [
    "## 数ごとに並べる  データセットの数揃ってないやん...\n",
    "y_count=np.zeros(10);\n",
    "for i in range(len(y)):\n",
    "    y_count[y[i]]+=1\n",
    "y_count"
   ]
  },
  {
   "cell_type": "code",
   "execution_count": 3,
   "metadata": {
    "collapsed": true
   },
   "outputs": [],
   "source": [
    "# 画像データを配列にしたもの(numpy.ndarray型)\n",
    "X = digits.data\n",
    "# 画像データに対する数字(numpy.ndarray型)。ラベルと言う\n",
    "y = digits.target\n",
    "# 訓練データとテストデータに分ける\n",
    "# 訓練データ ：偶数行\n",
    "X_train, y_train = X[0::2], y[0::2]\n",
    "# テストデータ：奇数行\n",
    "X_test, y_test = X[1::2], y[1::2]"
   ]
  },
  {
   "cell_type": "code",
   "execution_count": 245,
   "metadata": {},
   "outputs": [
    {
     "data": {
      "image/png": "[encoded data removed]",
      "text/plain": [
       "<matplotlib.figure.Figure at 0x10951e8d0>"
      ]
     },
     "metadata": {},
     "output_type": "display_data"
    }
   ],
   "source": [
    "# 叩き台 練習\n",
    "plot_num = 1;  # 表示する番号\n",
    "plot_sum = 3;  # 表示する個数\n",
    "\n",
    "fig = plt.figure()\n",
    "for i1 in range(plot_sum):\n",
    "    Xreshape = np.reshape(X[plot_num + i1*10],(8,8))\n",
    "    ax1 = fig.add_subplot(1, plot_sum, i1+1)\n",
    "    ax1.matshow(Xreshape, cmap=\"Greys\")\n",
    "plt.show()\n"
   ]
  },
  {
   "cell_type": "code",
   "execution_count": 261,
   "metadata": {},
   "outputs": [
    {
     "data": {
      "text/plain": [
       "<matplotlib.figure.Figure at 0x109179b90>"
      ]
     },
     "metadata": {},
     "output_type": "display_data"
    },
    {
     "data": {
      "image/png": "[encoded data removed]",
      "text/plain": [
       "<matplotlib.figure.Figure at 0x10c2299d0>"
      ]
     },
     "metadata": {},
     "output_type": "display_data"
    }
   ],
   "source": [
    "# 叩き台 練習2\n",
    "plot_num = 1;  # 表示する番号\n",
    "plot_sum1 = 3;  # 表示する個数 縦軸\n",
    "plot_sum2 = 3;  # 表示する個数 横軸\n",
    "\n",
    "fig = plt.figure(figsize=(8, 8), dpi=80)\n",
    "for i1 in range(plot_sum1):\n",
    "    for i2 in range(plot_sum2):\n",
    "        Xreshape = np.reshape(X[plot_num + i2*10 + i1],(8,8))\n",
    "        ax1 = fig.add_subplot(plot_sum1, plot_sum2, i1*plot_sum2+i2+1)\n",
    "        ax1.matshow(Xreshape, cmap=\"Greys\")\n",
    "# plt.savefig('fig/fig_sample_digits.jpg')\n",
    "plt.show()\n"
   ]
  },
  {
   "cell_type": "code",
   "execution_count": 31,
   "metadata": {},
   "outputs": [
    {
     "data": {
      "text/plain": [
       "SVC(C=1.0, cache_size=200, class_weight=None, coef0=0.0,\n",
       "  decision_function_shape=None, degree=3, gamma=0.001, kernel='rbf',\n",
       "  max_iter=-1, probability=False, random_state=None, shrinking=True,\n",
       "  tol=0.001, verbose=False)"
      ]
     },
     "execution_count": 31,
     "metadata": {},
     "output_type": "execute_result"
    }
   ],
   "source": [
    "# 学習器の作成。SVMというアルゴリズムを選択\n",
    "from sklearn import svm\n",
    "clf_svm = svm.SVC(gamma=0.001)\n",
    "# 訓練データとラベルで学習\n",
    "clf_svm.fit(X_train, y_train)"
   ]
  },
  {
   "cell_type": "code",
   "execution_count": 253,
   "metadata": {},
   "outputs": [
    {
     "name": "stdout",
     "output_type": "stream",
     "text": [
      "正解率:0.986636971047\n",
      "classification report\n",
      "             precision    recall  f1-score   support\n",
      "\n",
      "          0       1.00      0.99      0.99        88\n",
      "          1       0.98      1.00      0.99        89\n",
      "          2       1.00      1.00      1.00        91\n",
      "          3       1.00      0.98      0.99        93\n",
      "          4       0.99      1.00      0.99        88\n",
      "          5       0.98      0.97      0.97        91\n",
      "          6       0.99      1.00      0.99        90\n",
      "          7       0.99      1.00      0.99        91\n",
      "          8       0.97      0.97      0.97        86\n",
      "          9       0.98      0.97      0.97        91\n",
      "\n",
      "avg / total       0.99      0.99      0.99       898\n",
      "\n"
     ]
    }
   ],
   "source": [
    "from sklearn.metrics import classification_report\n",
    "# テストデータで試した正解率を返す\n",
    "accuracy = clf_svm.score(X_test, y_test)\n",
    "print(\"正解率:\"+str(accuracy))\n",
    "# 学習済モデルを使ってテストデータを分類した結果を返す\n",
    "predicted = clf_svm.predict(X_test)\n",
    "# 詳しいレポート\n",
    "# precision(適合率): 選択した正解/選択した集合\n",
    "# recall(再現率) : 選択した正解/全体の正解\n",
    "# F-score(F値) : 適合率と再現率はトレードオフの関係にあるため\n",
    "print(\"classification report\")\n",
    "print(classification_report(y_test, predicted))"
   ]
  },
  {
   "cell_type": "code",
   "execution_count": 201,
   "metadata": {},
   "outputs": [
    {
     "ename": "ImportError",
     "evalue": "No module named mlxtend.plotting",
     "output_type": "error",
     "traceback": [
      "\u001b[0;31m---------------------------------------------------------------------------\u001b[0m",
      "\u001b[0;31mImportError\u001b[0m                               Traceback (most recent call last)",
      "\u001b[0;32m<ipython-input-201-c09d008da62d>\u001b[0m in \u001b[0;36m<module>\u001b[0;34m()\u001b[0m\n\u001b[1;32m      2\u001b[0m \u001b[0;31m# SVM 結果 plot 0,1,2のみ\u001b[0m\u001b[0;34m\u001b[0m\u001b[0;34m\u001b[0m\u001b[0m\n\u001b[1;32m      3\u001b[0m \u001b[0;31m#分類結果を図示する\u001b[0m\u001b[0;34m\u001b[0m\u001b[0;34m\u001b[0m\u001b[0m\n\u001b[0;32m----> 4\u001b[0;31m \u001b[0;32mfrom\u001b[0m \u001b[0mmlxtend\u001b[0m\u001b[0;34m.\u001b[0m\u001b[0mplotting\u001b[0m \u001b[0;32mimport\u001b[0m \u001b[0mplot_decision_regions\u001b[0m\u001b[0;34m\u001b[0m\u001b[0m\n\u001b[0m\u001b[1;32m      5\u001b[0m \u001b[0;31m# conda install -c conda-forge mlxtend #Anaconda install\u001b[0m\u001b[0;34m\u001b[0m\u001b[0;34m\u001b[0m\u001b[0m\n\u001b[1;32m      6\u001b[0m \u001b[0mplot_num\u001b[0m\u001b[0;34m=\u001b[0m\u001b[0;36m7\u001b[0m\u001b[0;34m\u001b[0m\u001b[0m\n",
      "\u001b[0;31mImportError\u001b[0m: No module named mlxtend.plotting"
     ]
    }
   ],
   "source": [
    "###################  plot用  ################### \n",
    "# SVM 結果 plot 0,1,2のみ\n",
    "#分類結果を図示する\n",
    "from mlxtend.plotting import plot_decision_regions \n",
    "# conda install -c conda-forge mlxtend #Anaconda install\n",
    "plot_num=7\n",
    "\n",
    "clf1 = svm.SVC(gamma=0.1)\n",
    "X_train1=np.concatenate([X[plot_num::10],X[plot_num+1::10],X[plot_num+2::10]])\n",
    "y_train1=np.concatenate([y[plot_num::10],y[plot_num+1::10],y[plot_num+2::10]])\n",
    "clf1.fit(X_train1, y_train1)\n",
    "fig = plt.figure(figsize=(8, 5), dpi=80)\n",
    "ax = plot_decision_regions(X_train1, y_train1, clf=clf1,res=0.02,legend=2)\n",
    "# label変更用\n",
    "handles, labels = ax.get_legend_handles_labels()\n",
    "ax.legend(handles, \n",
    "          ['7', '8', '9'], \n",
    "           framealpha=0.5, scatterpoints=1)\n",
    "plt.title('SVM on digits')\n",
    "# plt.savefig('fig/fig_svm_digits_7to9.jpg')\n",
    "plt.show()"
   ]
  },
  {
   "cell_type": "code",
   "execution_count": 256,
   "metadata": {},
   "outputs": [
    {
     "data": {
      "text/plain": [
       "MLPClassifier(activation='relu', alpha=0.0001, batch_size='auto', beta_1=0.9,\n",
       "       beta_2=0.999, early_stopping=False, epsilon=1e-08,\n",
       "       hidden_layer_sizes=(100,), learning_rate='constant',\n",
       "       learning_rate_init=0.001, max_iter=200, momentum=0.9,\n",
       "       nesterovs_momentum=True, power_t=0.5, random_state=None,\n",
       "       shuffle=True, solver='adam', tol=0.0001, validation_fraction=0.1,\n",
       "       verbose=False, warm_start=False)"
      ]
     },
     "execution_count": 256,
     "metadata": {},
     "output_type": "execute_result"
    }
   ],
   "source": [
    "# NN\n",
    "from sklearn import neural_network\n",
    "clf_nn = neural_network.MLPClassifier(activation=\"relu\", alpha=0.0001) # clfはclassificationの略語\n",
    "# activation: 活性化関数 alpha: L2正則化パラメータ\n",
    "# 訓練データとラベルで学習\n",
    "clf_nn.fit(X_train, y_train)"
   ]
  },
  {
   "cell_type": "code",
   "execution_count": 257,
   "metadata": {},
   "outputs": [
    {
     "name": "stdout",
     "output_type": "stream",
     "text": [
      "0.955456570156\n",
      "正解率0.955456570156\n",
      "classification report\n",
      "             precision    recall  f1-score   support\n",
      "\n",
      "          0       1.00      0.99      0.99        88\n",
      "          1       0.92      0.96      0.94        89\n",
      "          2       0.98      1.00      0.99        91\n",
      "          3       0.97      0.94      0.95        93\n",
      "          4       0.90      0.99      0.94        88\n",
      "          5       0.99      0.97      0.98        91\n",
      "          6       1.00      0.97      0.98        90\n",
      "          7       0.98      0.99      0.98        91\n",
      "          8       0.88      0.88      0.88        86\n",
      "          9       0.94      0.88      0.91        91\n",
      "\n",
      "avg / total       0.96      0.96      0.96       898\n",
      "\n"
     ]
    }
   ],
   "source": [
    "from sklearn.metrics import classification_report\n",
    "# テストデータで試した正解率を返す\n",
    "accuracy = clf_nn.score(X_test, y_test)\n",
    "print(accuracy)\n",
    "print(\"正解率\"+str(accuracy))\n",
    "# 学習済モデルを使ってテストデータを分類した結果を返す\n",
    "predicted = clf_nn.predict(X_test)\n",
    "# 詳しいレポート\n",
    "# precision(適合率): 選択した正解/選択した集合\n",
    "# recall(再現率) : 選択した正解/全体の正解\n",
    "# F-score(F値) : 適合率と再現率はトレードオフの関係にあるため\n",
    "print(\"classification report\")\n",
    "print(classification_report(y_test, predicted))"
   ]
  },
  {
   "cell_type": "code",
   "execution_count": 258,
   "metadata": {},
   "outputs": [],
   "source": [
    "## 学習データ\n",
    "# 保存\n",
    "from sklearn.externals import joblib\n",
    "# joblib.dump(clf_nn,\"/Documents/tada/GitHub/Hello-World/Hello-Python/MLearn/sklearn_digits/ld/digits_nn190213.pkl\")\n",
    "joblib.dump(clf_nn,\"ld/digits_nn190213.pkl\")\n",
    "# 読み込み\n",
    "# clf_nn=joblib.load(\"~/Documents/tada/GitHub/Hello-World/Hello-Python/MLearn/sklearn_digits/ld/digits_nn190213.pkl\")\n",
    "clf_nn=joblib.load(\"ld/digits_nn190213.pkl\")"
   ]
  },
  {
   "cell_type": "code",
   "execution_count": 259,
   "metadata": {},
   "outputs": [
    {
     "name": "stdout",
     "output_type": "stream",
     "text": [
      "my.png = 4\n"
     ]
    }
   ],
   "source": [
    "## 画像判定\n",
    "from sklearn.externals import joblib\n",
    "import cv2\n",
    "def predict_digit(filename):\n",
    "    # 学習済みデータを読み込む\n",
    "    clf = joblib.load(\"ld/digits_nn190213.pkl\")\n",
    "    # 自分で用意した手書きの画像ファイルを読み込む\n",
    "    my_img = cv2.imread(filename)\n",
    "    # 画像データを学習済みデータに合わせる\n",
    "    my_img = cv2.cvtColor(my_img, cv2.COLOR_BGR2GRAY)\n",
    "    my_img = cv2.resize(my_img, (8, 8),interpolation = cv2.INTER_AREA)\n",
    "    # interpolation = cv2.INTER_AREA 平均\n",
    "    my_img = 15 - my_img // 16 # 白黒反転する\n",
    "    # 二次元を一次元に変換\n",
    "    my_img = my_img.reshape((-1, 64))\n",
    "    # データ予測する\n",
    "    res = clf.predict(my_img)\n",
    "    return res[0]\n",
    "\n",
    "\n",
    "fn=\"mypng/digit_3_3.png\"\n",
    "\n",
    "# 画像ファイルを指定して実行\n",
    "n = predict_digit(fn)\n",
    "print(\"my.png = \" + str(n))\n"
   ]
  },
  {
   "cell_type": "code",
   "execution_count": 252,
   "metadata": {},
   "outputs": [
    {
     "data": {
      "image/png": "[encoded data removed]",
      "text/plain": [
       "<matplotlib.figure.Figure at 0x10915d490>"
      ]
     },
     "metadata": {},
     "output_type": "display_data"
    },
    {
     "data": {
      "image/png": "[encoded data removed]",
      "text/plain": [
       "<matplotlib.figure.Figure at 0x10fdcb5d0>"
      ]
     },
     "metadata": {},
     "output_type": "display_data"
    }
   ],
   "source": [
    "# 判定に入れたデータの確認\n",
    "my_img = cv2.imread(fn)\n",
    "# 画像データを学習済みデータに合わせる\n",
    "my_img = cv2.cvtColor(my_img, cv2.COLOR_BGR2GRAY)\n",
    "my_img = cv2.resize(my_img, (8, 8),interpolation = cv2.INTER_AREA)\n",
    "my_img = 15 - my_img // 16 # 白黒反転する\n",
    "\n",
    "# plt.matshow(digits.images[0], cmap=\"Greys\")\n",
    "plt.matshow(my_img,cmap=\"Greys\")\n",
    "plt.show()\n",
    "\n",
    "# 二次元を一次元に変換\n",
    "my_img = my_img.reshape((-1, 64))\n",
    "# データ予測する\n",
    "pred_proba = clf.predict_proba(my_img)\n",
    "# plt.gca().get_xaxis().get_major_formatter().set_useOffset(False)\n",
    "plt.plot(np.arange(0,10),pred_proba[0,:])\n",
    "plt.show()"
   ]
  },
  {
   "cell_type": "code",
   "execution_count": 191,
   "metadata": {
    "scrolled": true
   },
   "outputs": [
    {
     "data": {
      "image/png": "[encoded data removed]",
      "text/plain": [
       "<matplotlib.figure.Figure at 0x117822d10>"
      ]
     },
     "metadata": {},
     "output_type": "display_data"
    }
   ],
   "source": [
    "## サイズ大きくすべき?\n",
    "my_img = cv2.imread(fn)\n",
    "# 画像データを学習済みデータに合わせる\n",
    "my_img = cv2.cvtColor(my_img, cv2.COLOR_BGR2GRAY)\n",
    "my_img = cv2.resize(my_img, (32, 32))\n",
    "my_img = 15 - my_img // 16 # 白黒反転する\n",
    "# my_img.shape\n",
    "plt.matshow(my_img,cmap=\"Greys\")\n",
    "plt.show()"
   ]
  },
  {
   "cell_type": "code",
   "execution_count": null,
   "metadata": {
    "collapsed": true
   },
   "outputs": [],
   "source": []
  },
  {
   "cell_type": "code",
   "execution_count": null,
   "metadata": {
    "collapsed": true
   },
   "outputs": [],
   "source": []
  },
  {
   "cell_type": "code",
   "execution_count": null,
   "metadata": {
    "collapsed": true
   },
   "outputs": [],
   "source": []
  }
 ],
 "metadata": {
  "kernelspec": {
   "display_name": "Python 2",
   "language": "python",
   "name": "python2"
  },
  "language_info": {
   "codemirror_mode": {
    "name": "ipython",
    "version": 2
   },
   "file_extension": ".py",
   "mimetype": "text/x-python",
   "name": "python",
   "nbconvert_exporter": "python",
   "pygments_lexer": "ipython2",
   "version": "2.7.13"
  }
 },
 "nbformat": 4,
 "nbformat_minor": 2
}
